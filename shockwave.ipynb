{
 "cells": [
  {
   "cell_type": "markdown",
   "id": "0cdcc6a0",
   "metadata": {},
   "source": [
    "# shockwave\n",
    "\n",
    "## Analize earthquake data\n",
    "\n",
    "* Plot the earthquake locations\n",
    "* Plot magnitudes of the earthquakes\n",
    "* Show the magnitudes compared to the location\n",
    "* Show collation of earthquakes around the ring of fire\n",
    "\n",
    "## Questions to answer\n",
    "\n",
    "* Is there an increase of earthquakes since 1970?\n",
    "* Is there an increase of the magnitude of earthquakes since 1970? \n",
    "\n"
   ]
  },
  {
   "cell_type": "code",
   "execution_count": 1,
   "id": "b50a9616",
   "metadata": {},
   "outputs": [
    {
     "data": {
      "text/plain": [
       "str"
      ]
     },
     "execution_count": 1,
     "metadata": {},
     "output_type": "execute_result"
    }
   ],
   "source": [
    "import os\n",
    "import pandas as pd\n",
    "from dotenv import load_dotenv\n",
    "import numpy as np\n",
    "\n",
    "# Incorporated citipy to determine city based on latitude and longitude\n",
    "from citipy import citipy\n",
    "import requests\n",
    "\n",
    "# Load .env enviroment variables into the notebook\n",
    "load_dotenv()\n",
    "# Get the API key from the environment variable and store as Python variable\n",
    "google_api_key = os.getenv(\"google_api_key\")\n",
    "type(google_api_key)\n"
   ]
  },
  {
   "cell_type": "code",
   "execution_count": 1,
   "id": "1d2a0a8c",
   "metadata": {},
   "outputs": [],
   "source": [
    "# File to load\n",
    "usgs_source_data = \"data/query_sample_one_week_2_5.csv\""
   ]
  },
  {
   "cell_type": "code",
   "execution_count": null,
   "id": "56d2b633",
   "metadata": {},
   "outputs": [],
   "source": []
  }
 ],
 "metadata": {
  "kernelspec": {
   "display_name": "Python [conda env:PythonData] *",
   "language": "python",
   "name": "conda-env-PythonData-py"
  },
  "language_info": {
   "codemirror_mode": {
    "name": "ipython",
    "version": 3
   },
   "file_extension": ".py",
   "mimetype": "text/x-python",
   "name": "python",
   "nbconvert_exporter": "python",
   "pygments_lexer": "ipython3",
   "version": "3.6.13"
  }
 },
 "nbformat": 4,
 "nbformat_minor": 5
}
